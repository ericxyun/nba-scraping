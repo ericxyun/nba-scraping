{
 "cells": [
  {
   "cell_type": "code",
   "execution_count": 3,
   "metadata": {},
   "outputs": [],
   "source": [
    "import pandas as pd\n",
    "import numpy as np\n",
    "import matplotlib.pyplot as plt\n",
    "import selenium\n",
    "from selenium import webdriver\n",
    "from selenium.webdriver.common.keys import Keys\n",
    "from selenium.webdriver.support.ui import WebDriverWait\n",
    "from time import sleep\n",
    "import datetime\n",
    "pd.options.display.max_rows = 999\n",
    "pd.options.display.max_columns = 999"
   ]
  },
  {
   "cell_type": "code",
   "execution_count": 21,
   "metadata": {},
   "outputs": [],
   "source": [
    "#dates = ['00-01', '01-02', '02-03', '03-04', '04-05', '05-06' '06-07', '07-08' '08-09', '09-10', '10-11', '11-12', '12-13', '13-14', '14-15', '15-16', '16-17', '17-18']\n",
    "dates = ['05-06', '07-08']\n",
    "def scrape(date):    \n",
    "    url = 'https://stats.nba.com/players/traditional/?sort=PTS&dir=-1&Season=20' + str(date) + '&SeasonType=Regular%20Season'\n",
    "    browser = webdriver.Firefox()\n",
    "    browser.get(url)\n",
    "\n",
    "    full_text = [[],[],[],[],[],[],[],[],[],[]]\n",
    "\n",
    "    for i in range(10):\n",
    "        try:\n",
    "            table = browser.find_element_by_css_selector('.nba-stat-table__overflow')\n",
    "            text = table.text.split('\\n')\n",
    "            full_text[i].append(text)\n",
    "            browser.find_element_by_xpath('/html/body/main/div[2]/div/div[2]/div/div/nba-stat-table/div[3]/div/div/a[2]').click()\n",
    "            sleep(1)\n",
    "        except:\n",
    "            print('Different number of pages.')\n",
    "    browser.quit()\n",
    "\n",
    "    header = full_text[0][0][0].split(' ')\n",
    "    rank = []\n",
    "    player = []\n",
    "    stats= []\n",
    "\n",
    "    for j in range(9):\n",
    "        try:\n",
    "            for i in range(1, 151, 3):\n",
    "                rank.append(full_text[j][0][i])\n",
    "\n",
    "            for i in range(2,151, 3):\n",
    "                player.append(full_text[j][0][i])\n",
    "\n",
    "            for i in range(3,151, 3):\n",
    "                stats.append(full_text[j][0][i].split(' '))\n",
    "        except:\n",
    "            print(\"Something went wrong in the for loop.\")\n",
    "\n",
    "    data = pd.DataFrame(stats, columns=header[1:])\n",
    "    for item in data.drop('TEAM', axis=1).columns:\n",
    "        data[item] = data[item].astype('float')\n",
    "    data['PLAYER'] = player\n",
    "    data['WLP'] = data['W'] / data['GP'] * 100\n",
    "    data['DATE'] = str(date)\n",
    "    x = data.columns.tolist()\n",
    "    x = x[-1:] + x[-3:-2] + x[0:3] + x[-2:-1] + x[3:28] \n",
    "    data = data[x]\n",
    "\n",
    "    data.to_csv(\"data/historic/avg/\" + str(date) + \"_avg.csv\", index=False)\n",
    "    data.head()"
   ]
  },
  {
   "cell_type": "code",
   "execution_count": 22,
   "metadata": {},
   "outputs": [],
   "source": [
    "for item in dates:\n",
    "    scrape(item)"
   ]
  },
  {
   "cell_type": "code",
   "execution_count": 1,
   "metadata": {},
   "outputs": [
    {
     "name": "stdout",
     "output_type": "stream",
     "text": [
      "Collecting nba_api\n",
      "  Downloading https://files.pythonhosted.org/packages/66/29/3805e933b59017fed7afc1f0892c04c4cbdc80b22ab015c7ff0c62335e1d/nba_api-1.0.7-py3-none-any.whl (197kB)\n",
      "Requirement already satisfied: requests in c:\\programdata\\anaconda3\\envs\\gpuenv\\lib\\site-packages (from nba_api) (2.21.0)\n",
      "Requirement already satisfied: chardet<3.1.0,>=3.0.2 in c:\\programdata\\anaconda3\\envs\\gpuenv\\lib\\site-packages (from requests->nba_api) (3.0.4)\n",
      "Requirement already satisfied: urllib3<1.25,>=1.21.1 in c:\\programdata\\anaconda3\\envs\\gpuenv\\lib\\site-packages (from requests->nba_api) (1.24.1)\n",
      "Requirement already satisfied: idna<2.9,>=2.5 in c:\\programdata\\anaconda3\\envs\\gpuenv\\lib\\site-packages (from requests->nba_api) (2.8)\n",
      "Requirement already satisfied: certifi>=2017.4.17 in c:\\programdata\\anaconda3\\envs\\gpuenv\\lib\\site-packages (from requests->nba_api) (2018.11.29)\n",
      "Installing collected packages: nba-api\n",
      "Successfully installed nba-api-1.0.7\n"
     ]
    }
   ],
   "source": [
    "!pip install nba_api"
   ]
  },
  {
   "cell_type": "code",
   "execution_count": 7,
   "metadata": {},
   "outputs": [
    {
     "data": {
      "text/plain": [
       "['__builtins__',\n",
       " '__cached__',\n",
       " '__doc__',\n",
       " '__file__',\n",
       " '__loader__',\n",
       " '__name__',\n",
       " '__package__',\n",
       " '__path__',\n",
       " '__spec__']"
      ]
     },
     "execution_count": 7,
     "metadata": {},
     "output_type": "execute_result"
    }
   ],
   "source": [
    "from nba_api import stats\n",
    "dir(stats)"
   ]
  },
  {
   "cell_type": "code",
   "execution_count": 4,
   "metadata": {},
   "outputs": [
    {
     "data": {
      "text/plain": [
       "'nba_api'"
      ]
     },
     "execution_count": 4,
     "metadata": {},
     "output_type": "execute_result"
    }
   ],
   "source": [
    "nba_api.name"
   ]
  },
  {
   "cell_type": "code",
   "execution_count": 5,
   "metadata": {},
   "outputs": [
    {
     "data": {
      "text/plain": [
       "['__add__',\n",
       " '__class__',\n",
       " '__contains__',\n",
       " '__delattr__',\n",
       " '__dir__',\n",
       " '__doc__',\n",
       " '__eq__',\n",
       " '__format__',\n",
       " '__ge__',\n",
       " '__getattribute__',\n",
       " '__getitem__',\n",
       " '__getnewargs__',\n",
       " '__gt__',\n",
       " '__hash__',\n",
       " '__init__',\n",
       " '__init_subclass__',\n",
       " '__iter__',\n",
       " '__le__',\n",
       " '__len__',\n",
       " '__lt__',\n",
       " '__mod__',\n",
       " '__mul__',\n",
       " '__ne__',\n",
       " '__new__',\n",
       " '__reduce__',\n",
       " '__reduce_ex__',\n",
       " '__repr__',\n",
       " '__rmod__',\n",
       " '__rmul__',\n",
       " '__setattr__',\n",
       " '__sizeof__',\n",
       " '__str__',\n",
       " '__subclasshook__',\n",
       " 'capitalize',\n",
       " 'casefold',\n",
       " 'center',\n",
       " 'count',\n",
       " 'encode',\n",
       " 'endswith',\n",
       " 'expandtabs',\n",
       " 'find',\n",
       " 'format',\n",
       " 'format_map',\n",
       " 'index',\n",
       " 'isalnum',\n",
       " 'isalpha',\n",
       " 'isdecimal',\n",
       " 'isdigit',\n",
       " 'isidentifier',\n",
       " 'islower',\n",
       " 'isnumeric',\n",
       " 'isprintable',\n",
       " 'isspace',\n",
       " 'istitle',\n",
       " 'isupper',\n",
       " 'join',\n",
       " 'ljust',\n",
       " 'lower',\n",
       " 'lstrip',\n",
       " 'maketrans',\n",
       " 'partition',\n",
       " 'replace',\n",
       " 'rfind',\n",
       " 'rindex',\n",
       " 'rjust',\n",
       " 'rpartition',\n",
       " 'rsplit',\n",
       " 'rstrip',\n",
       " 'split',\n",
       " 'splitlines',\n",
       " 'startswith',\n",
       " 'strip',\n",
       " 'swapcase',\n",
       " 'title',\n",
       " 'translate',\n",
       " 'upper',\n",
       " 'zfill']"
      ]
     },
     "execution_count": 5,
     "metadata": {},
     "output_type": "execute_result"
    }
   ],
   "source": [
    "dir(nba_api.name)"
   ]
  },
  {
   "cell_type": "code",
   "execution_count": null,
   "metadata": {},
   "outputs": [],
   "source": []
  }
 ],
 "metadata": {
  "kernelspec": {
   "display_name": "Python 3",
   "language": "python",
   "name": "python3"
  },
  "language_info": {
   "codemirror_mode": {
    "name": "ipython",
    "version": 3
   },
   "file_extension": ".py",
   "mimetype": "text/x-python",
   "name": "python",
   "nbconvert_exporter": "python",
   "pygments_lexer": "ipython3",
   "version": "3.6.7"
  }
 },
 "nbformat": 4,
 "nbformat_minor": 2
}
