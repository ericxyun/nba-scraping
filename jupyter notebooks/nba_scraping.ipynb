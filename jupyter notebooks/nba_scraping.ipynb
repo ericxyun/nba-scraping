{
 "cells": [
  {
   "cell_type": "markdown",
   "metadata": {},
   "source": [
    "## Currently Enrolled NBA Player Cummulative Statistics Web Scraping"
   ]
  },
  {
   "cell_type": "markdown",
   "metadata": {},
   "source": [
    "__Code__"
   ]
  },
  {
   "cell_type": "code",
   "execution_count": 4,
   "metadata": {},
   "outputs": [],
   "source": [
    "import pandas as pd\n",
    "import numpy as np\n",
    "import matplotlib.pyplot as plt\n",
    "import selenium\n",
    "from selenium import webdriver\n",
    "from selenium.webdriver.common.keys import Keys\n",
    "from selenium.webdriver.support.ui import WebDriverWait\n",
    "from time import sleep\n",
    "import datetime\n",
    "pd.options.display.max_rows = 999\n",
    "pd.options.display.max_columns = 999"
   ]
  },
  {
   "cell_type": "markdown",
   "metadata": {},
   "source": [
    "This code is used to parse the dataset for the __cummulative averages__."
   ]
  },
  {
   "cell_type": "code",
   "execution_count": 5,
   "metadata": {},
   "outputs": [
    {
     "data": {
      "text/html": [
       "<div>\n",
       "<style scoped>\n",
       "    .dataframe tbody tr th:only-of-type {\n",
       "        vertical-align: middle;\n",
       "    }\n",
       "\n",
       "    .dataframe tbody tr th {\n",
       "        vertical-align: top;\n",
       "    }\n",
       "\n",
       "    .dataframe thead th {\n",
       "        text-align: right;\n",
       "    }\n",
       "</style>\n",
       "<table border=\"1\" class=\"dataframe\">\n",
       "  <thead>\n",
       "    <tr style=\"text-align: right;\">\n",
       "      <th></th>\n",
       "      <th>DATE</th>\n",
       "      <th>PLAYER</th>\n",
       "      <th>TEAM</th>\n",
       "      <th>AGE</th>\n",
       "      <th>GP</th>\n",
       "      <th>WLP</th>\n",
       "      <th>W</th>\n",
       "      <th>L</th>\n",
       "      <th>MIN</th>\n",
       "      <th>PTS</th>\n",
       "      <th>FGM</th>\n",
       "      <th>FGA</th>\n",
       "      <th>FG%</th>\n",
       "      <th>3PM</th>\n",
       "      <th>3PA</th>\n",
       "      <th>3P%</th>\n",
       "      <th>FTM</th>\n",
       "      <th>FTA</th>\n",
       "      <th>FT%</th>\n",
       "      <th>OREB</th>\n",
       "      <th>DREB</th>\n",
       "      <th>REB</th>\n",
       "      <th>AST</th>\n",
       "      <th>TOV</th>\n",
       "      <th>STL</th>\n",
       "      <th>BLK</th>\n",
       "      <th>PF</th>\n",
       "      <th>FP</th>\n",
       "      <th>DD2</th>\n",
       "      <th>TD3</th>\n",
       "      <th>+/-</th>\n",
       "    </tr>\n",
       "  </thead>\n",
       "  <tbody>\n",
       "    <tr>\n",
       "      <th>0</th>\n",
       "      <td>2019-01-10</td>\n",
       "      <td>James Harden</td>\n",
       "      <td>HOU</td>\n",
       "      <td>29.0</td>\n",
       "      <td>37.0</td>\n",
       "      <td>0.594595</td>\n",
       "      <td>22.0</td>\n",
       "      <td>15.0</td>\n",
       "      <td>37.3</td>\n",
       "      <td>33.9</td>\n",
       "      <td>9.8</td>\n",
       "      <td>22.6</td>\n",
       "      <td>43.6</td>\n",
       "      <td>4.8</td>\n",
       "      <td>12.5</td>\n",
       "      <td>38.6</td>\n",
       "      <td>9.4</td>\n",
       "      <td>11.0</td>\n",
       "      <td>85.3</td>\n",
       "      <td>0.7</td>\n",
       "      <td>5.3</td>\n",
       "      <td>6.0</td>\n",
       "      <td>8.6</td>\n",
       "      <td>5.7</td>\n",
       "      <td>2.0</td>\n",
       "      <td>0.6</td>\n",
       "      <td>3.5</td>\n",
       "      <td>56.1</td>\n",
       "      <td>15.0</td>\n",
       "      <td>5.0</td>\n",
       "      <td>1.6</td>\n",
       "    </tr>\n",
       "    <tr>\n",
       "      <th>1</th>\n",
       "      <td>2019-01-10</td>\n",
       "      <td>Anthony Davis</td>\n",
       "      <td>NOP</td>\n",
       "      <td>25.0</td>\n",
       "      <td>37.0</td>\n",
       "      <td>0.513514</td>\n",
       "      <td>19.0</td>\n",
       "      <td>18.0</td>\n",
       "      <td>37.0</td>\n",
       "      <td>28.9</td>\n",
       "      <td>10.4</td>\n",
       "      <td>20.2</td>\n",
       "      <td>51.4</td>\n",
       "      <td>0.9</td>\n",
       "      <td>2.9</td>\n",
       "      <td>32.1</td>\n",
       "      <td>7.2</td>\n",
       "      <td>9.0</td>\n",
       "      <td>80.4</td>\n",
       "      <td>3.4</td>\n",
       "      <td>9.9</td>\n",
       "      <td>13.2</td>\n",
       "      <td>4.4</td>\n",
       "      <td>2.0</td>\n",
       "      <td>1.8</td>\n",
       "      <td>2.7</td>\n",
       "      <td>2.5</td>\n",
       "      <td>62.8</td>\n",
       "      <td>29.0</td>\n",
       "      <td>0.0</td>\n",
       "      <td>4.7</td>\n",
       "    </tr>\n",
       "    <tr>\n",
       "      <th>2</th>\n",
       "      <td>2019-01-10</td>\n",
       "      <td>Stephen Curry</td>\n",
       "      <td>GSW</td>\n",
       "      <td>30.0</td>\n",
       "      <td>30.0</td>\n",
       "      <td>0.733333</td>\n",
       "      <td>22.0</td>\n",
       "      <td>8.0</td>\n",
       "      <td>34.8</td>\n",
       "      <td>28.9</td>\n",
       "      <td>9.6</td>\n",
       "      <td>19.9</td>\n",
       "      <td>48.3</td>\n",
       "      <td>5.0</td>\n",
       "      <td>11.4</td>\n",
       "      <td>44.3</td>\n",
       "      <td>4.6</td>\n",
       "      <td>5.0</td>\n",
       "      <td>91.3</td>\n",
       "      <td>0.6</td>\n",
       "      <td>4.5</td>\n",
       "      <td>5.2</td>\n",
       "      <td>5.5</td>\n",
       "      <td>3.1</td>\n",
       "      <td>1.3</td>\n",
       "      <td>0.3</td>\n",
       "      <td>2.6</td>\n",
       "      <td>45.2</td>\n",
       "      <td>1.0</td>\n",
       "      <td>0.0</td>\n",
       "      <td>8.5</td>\n",
       "    </tr>\n",
       "    <tr>\n",
       "      <th>3</th>\n",
       "      <td>2019-01-10</td>\n",
       "      <td>Kevin Durant</td>\n",
       "      <td>GSW</td>\n",
       "      <td>30.0</td>\n",
       "      <td>41.0</td>\n",
       "      <td>0.658537</td>\n",
       "      <td>27.0</td>\n",
       "      <td>14.0</td>\n",
       "      <td>35.8</td>\n",
       "      <td>28.4</td>\n",
       "      <td>9.8</td>\n",
       "      <td>19.4</td>\n",
       "      <td>50.5</td>\n",
       "      <td>1.8</td>\n",
       "      <td>5.0</td>\n",
       "      <td>36.4</td>\n",
       "      <td>7.0</td>\n",
       "      <td>7.7</td>\n",
       "      <td>91.1</td>\n",
       "      <td>0.5</td>\n",
       "      <td>6.9</td>\n",
       "      <td>7.4</td>\n",
       "      <td>6.1</td>\n",
       "      <td>3.4</td>\n",
       "      <td>0.8</td>\n",
       "      <td>1.0</td>\n",
       "      <td>1.9</td>\n",
       "      <td>48.6</td>\n",
       "      <td>12.0</td>\n",
       "      <td>2.0</td>\n",
       "      <td>7.0</td>\n",
       "    </tr>\n",
       "    <tr>\n",
       "      <th>4</th>\n",
       "      <td>2019-01-10</td>\n",
       "      <td>Kawhi Leonard</td>\n",
       "      <td>TOR</td>\n",
       "      <td>27.0</td>\n",
       "      <td>33.0</td>\n",
       "      <td>0.696970</td>\n",
       "      <td>23.0</td>\n",
       "      <td>10.0</td>\n",
       "      <td>34.9</td>\n",
       "      <td>27.3</td>\n",
       "      <td>9.5</td>\n",
       "      <td>18.9</td>\n",
       "      <td>50.2</td>\n",
       "      <td>1.7</td>\n",
       "      <td>4.7</td>\n",
       "      <td>36.8</td>\n",
       "      <td>6.6</td>\n",
       "      <td>7.8</td>\n",
       "      <td>84.8</td>\n",
       "      <td>1.2</td>\n",
       "      <td>6.6</td>\n",
       "      <td>7.8</td>\n",
       "      <td>3.1</td>\n",
       "      <td>2.0</td>\n",
       "      <td>1.9</td>\n",
       "      <td>0.5</td>\n",
       "      <td>1.5</td>\n",
       "      <td>46.5</td>\n",
       "      <td>9.0</td>\n",
       "      <td>0.0</td>\n",
       "      <td>5.0</td>\n",
       "    </tr>\n",
       "  </tbody>\n",
       "</table>\n",
       "</div>"
      ],
      "text/plain": [
       "         DATE         PLAYER TEAM   AGE    GP       WLP     W     L   MIN  \\\n",
       "0  2019-01-10   James Harden  HOU  29.0  37.0  0.594595  22.0  15.0  37.3   \n",
       "1  2019-01-10  Anthony Davis  NOP  25.0  37.0  0.513514  19.0  18.0  37.0   \n",
       "2  2019-01-10  Stephen Curry  GSW  30.0  30.0  0.733333  22.0   8.0  34.8   \n",
       "3  2019-01-10   Kevin Durant  GSW  30.0  41.0  0.658537  27.0  14.0  35.8   \n",
       "4  2019-01-10  Kawhi Leonard  TOR  27.0  33.0  0.696970  23.0  10.0  34.9   \n",
       "\n",
       "    PTS   FGM   FGA   FG%  3PM   3PA   3P%  FTM   FTA   FT%  OREB  DREB   REB  \\\n",
       "0  33.9   9.8  22.6  43.6  4.8  12.5  38.6  9.4  11.0  85.3   0.7   5.3   6.0   \n",
       "1  28.9  10.4  20.2  51.4  0.9   2.9  32.1  7.2   9.0  80.4   3.4   9.9  13.2   \n",
       "2  28.9   9.6  19.9  48.3  5.0  11.4  44.3  4.6   5.0  91.3   0.6   4.5   5.2   \n",
       "3  28.4   9.8  19.4  50.5  1.8   5.0  36.4  7.0   7.7  91.1   0.5   6.9   7.4   \n",
       "4  27.3   9.5  18.9  50.2  1.7   4.7  36.8  6.6   7.8  84.8   1.2   6.6   7.8   \n",
       "\n",
       "   AST  TOV  STL  BLK   PF    FP   DD2  TD3  +/-  \n",
       "0  8.6  5.7  2.0  0.6  3.5  56.1  15.0  5.0  1.6  \n",
       "1  4.4  2.0  1.8  2.7  2.5  62.8  29.0  0.0  4.7  \n",
       "2  5.5  3.1  1.3  0.3  2.6  45.2   1.0  0.0  8.5  \n",
       "3  6.1  3.4  0.8  1.0  1.9  48.6  12.0  2.0  7.0  \n",
       "4  3.1  2.0  1.9  0.5  1.5  46.5   9.0  0.0  5.0  "
      ]
     },
     "execution_count": 5,
     "metadata": {},
     "output_type": "execute_result"
    }
   ],
   "source": [
    "url = 'https://stats.nba.com/players/traditional/?sort=PTS&dir=-1&Season=2018-19&SeasonType=Regular%20Season'\n",
    "browser = webdriver.Firefox()\n",
    "browser.get(url)\n",
    "\n",
    "full_text = [[],[],[],[],[],[],[],[],[],[]]\n",
    "\n",
    "for i in range(10):\n",
    "\ttable = browser.find_element_by_css_selector('.nba-stat-table__overflow')\n",
    "\ttext = table.text.split('\\n')\n",
    "\tfull_text[i].append(text)\n",
    "\tbrowser.find_element_by_xpath('/html/body/main/div[2]/div/div[2]/div/div/nba-stat-table/div[3]/div/div/a[2]').click()\n",
    "\tsleep(1)\n",
    "browser.quit()\n",
    "\n",
    "header = full_text[0][0][0].split(' ')\n",
    "rank = []\n",
    "player = []\n",
    "stats= []\n",
    "\n",
    "for j in range(9):\n",
    "    for i in range(1, 151, 3):\n",
    "        rank.append(full_text[j][0][i])\n",
    "\n",
    "    for i in range(2,151, 3):\n",
    "        player.append(full_text[j][0][i])\n",
    "\n",
    "    for i in range(3,151, 3):\n",
    "        stats.append(full_text[j][0][i].split(' '))\n",
    "\n",
    "data = pd.DataFrame(stats, columns=header[1:])\n",
    "for item in data.drop('TEAM', axis=1).columns:\n",
    "    data[item] = data[item].astype('float')\n",
    "data['PLAYER'] = player\n",
    "data['WLP'] = data['W'] / data['GP']\n",
    "data['DATE'] = str(datetime.date.today())\n",
    "x = data.columns.tolist()\n",
    "x = x[-1:] + x[-3:-2] + x[0:3] + x[-2:-1] + x[3:28] \n",
    "data = data[x]\n",
    "\n",
    "data.to_csv(\"data/avg/\" + str(datetime.date.today()) + \"_avg.csv\", index=False)\n",
    "data.head()\n",
    "\n"
   ]
  },
  {
   "cell_type": "markdown",
   "metadata": {},
   "source": [
    "This is a repeat of the code above, but for the dataset for the __total count__.   \n",
    "Notice: Only `url` is different."
   ]
  },
  {
   "cell_type": "code",
   "execution_count": 8,
   "metadata": {},
   "outputs": [
    {
     "data": {
      "text/html": [
       "<div>\n",
       "<style scoped>\n",
       "    .dataframe tbody tr th:only-of-type {\n",
       "        vertical-align: middle;\n",
       "    }\n",
       "\n",
       "    .dataframe tbody tr th {\n",
       "        vertical-align: top;\n",
       "    }\n",
       "\n",
       "    .dataframe thead th {\n",
       "        text-align: right;\n",
       "    }\n",
       "</style>\n",
       "<table border=\"1\" class=\"dataframe\">\n",
       "  <thead>\n",
       "    <tr style=\"text-align: right;\">\n",
       "      <th></th>\n",
       "      <th>DATE</th>\n",
       "      <th>PLAYER</th>\n",
       "      <th>TEAM</th>\n",
       "      <th>AGE</th>\n",
       "      <th>GP</th>\n",
       "      <th>WLP</th>\n",
       "      <th>W</th>\n",
       "      <th>L</th>\n",
       "      <th>MIN</th>\n",
       "      <th>PTS</th>\n",
       "      <th>FGM</th>\n",
       "      <th>FGA</th>\n",
       "      <th>FG%</th>\n",
       "      <th>3PM</th>\n",
       "      <th>3PA</th>\n",
       "      <th>3P%</th>\n",
       "      <th>FTM</th>\n",
       "      <th>FTA</th>\n",
       "      <th>FT%</th>\n",
       "      <th>OREB</th>\n",
       "      <th>DREB</th>\n",
       "      <th>REB</th>\n",
       "      <th>AST</th>\n",
       "      <th>TOV</th>\n",
       "      <th>STL</th>\n",
       "      <th>BLK</th>\n",
       "      <th>PF</th>\n",
       "      <th>FP</th>\n",
       "      <th>DD2</th>\n",
       "      <th>TD3</th>\n",
       "      <th>+/-</th>\n",
       "    </tr>\n",
       "  </thead>\n",
       "  <tbody>\n",
       "    <tr>\n",
       "      <th>0</th>\n",
       "      <td>2019-01-10</td>\n",
       "      <td>James Harden</td>\n",
       "      <td>HOU</td>\n",
       "      <td>29.0</td>\n",
       "      <td>37.0</td>\n",
       "      <td>0.594595</td>\n",
       "      <td>22.0</td>\n",
       "      <td>15.0</td>\n",
       "      <td>1378.0</td>\n",
       "      <td>1254.0</td>\n",
       "      <td>364.0</td>\n",
       "      <td>835.0</td>\n",
       "      <td>43.6</td>\n",
       "      <td>179.0</td>\n",
       "      <td>464.0</td>\n",
       "      <td>38.6</td>\n",
       "      <td>347.0</td>\n",
       "      <td>407.0</td>\n",
       "      <td>85.3</td>\n",
       "      <td>27.0</td>\n",
       "      <td>195.0</td>\n",
       "      <td>222.0</td>\n",
       "      <td>318.0</td>\n",
       "      <td>211.0</td>\n",
       "      <td>74.0</td>\n",
       "      <td>22.0</td>\n",
       "      <td>128.0</td>\n",
       "      <td>2074.4</td>\n",
       "      <td>15.0</td>\n",
       "      <td>5.0</td>\n",
       "      <td>58.0</td>\n",
       "    </tr>\n",
       "    <tr>\n",
       "      <th>1</th>\n",
       "      <td>2019-01-10</td>\n",
       "      <td>Kevin Durant</td>\n",
       "      <td>GSW</td>\n",
       "      <td>30.0</td>\n",
       "      <td>41.0</td>\n",
       "      <td>0.658537</td>\n",
       "      <td>27.0</td>\n",
       "      <td>14.0</td>\n",
       "      <td>1469.0</td>\n",
       "      <td>1163.0</td>\n",
       "      <td>401.0</td>\n",
       "      <td>794.0</td>\n",
       "      <td>50.5</td>\n",
       "      <td>75.0</td>\n",
       "      <td>206.0</td>\n",
       "      <td>36.4</td>\n",
       "      <td>286.0</td>\n",
       "      <td>314.0</td>\n",
       "      <td>91.1</td>\n",
       "      <td>20.0</td>\n",
       "      <td>284.0</td>\n",
       "      <td>304.0</td>\n",
       "      <td>252.0</td>\n",
       "      <td>140.0</td>\n",
       "      <td>32.0</td>\n",
       "      <td>43.0</td>\n",
       "      <td>78.0</td>\n",
       "      <td>1990.8</td>\n",
       "      <td>12.0</td>\n",
       "      <td>2.0</td>\n",
       "      <td>285.0</td>\n",
       "    </tr>\n",
       "    <tr>\n",
       "      <th>2</th>\n",
       "      <td>2019-01-10</td>\n",
       "      <td>Damian Lillard</td>\n",
       "      <td>POR</td>\n",
       "      <td>28.0</td>\n",
       "      <td>42.0</td>\n",
       "      <td>0.595238</td>\n",
       "      <td>25.0</td>\n",
       "      <td>17.0</td>\n",
       "      <td>1485.0</td>\n",
       "      <td>1089.0</td>\n",
       "      <td>356.0</td>\n",
       "      <td>801.0</td>\n",
       "      <td>44.4</td>\n",
       "      <td>124.0</td>\n",
       "      <td>321.0</td>\n",
       "      <td>38.6</td>\n",
       "      <td>253.0</td>\n",
       "      <td>282.0</td>\n",
       "      <td>89.7</td>\n",
       "      <td>32.0</td>\n",
       "      <td>159.0</td>\n",
       "      <td>191.0</td>\n",
       "      <td>258.0</td>\n",
       "      <td>118.0</td>\n",
       "      <td>41.0</td>\n",
       "      <td>19.0</td>\n",
       "      <td>75.0</td>\n",
       "      <td>1767.2</td>\n",
       "      <td>5.0</td>\n",
       "      <td>0.0</td>\n",
       "      <td>132.0</td>\n",
       "    </tr>\n",
       "    <tr>\n",
       "      <th>3</th>\n",
       "      <td>2019-01-10</td>\n",
       "      <td>Joel Embiid</td>\n",
       "      <td>PHI</td>\n",
       "      <td>24.0</td>\n",
       "      <td>40.0</td>\n",
       "      <td>0.650000</td>\n",
       "      <td>26.0</td>\n",
       "      <td>14.0</td>\n",
       "      <td>1348.0</td>\n",
       "      <td>1077.0</td>\n",
       "      <td>356.0</td>\n",
       "      <td>727.0</td>\n",
       "      <td>49.0</td>\n",
       "      <td>46.0</td>\n",
       "      <td>153.0</td>\n",
       "      <td>30.1</td>\n",
       "      <td>319.0</td>\n",
       "      <td>396.0</td>\n",
       "      <td>80.6</td>\n",
       "      <td>93.0</td>\n",
       "      <td>445.0</td>\n",
       "      <td>538.0</td>\n",
       "      <td>140.0</td>\n",
       "      <td>140.0</td>\n",
       "      <td>23.0</td>\n",
       "      <td>75.0</td>\n",
       "      <td>133.0</td>\n",
       "      <td>2086.6</td>\n",
       "      <td>36.0</td>\n",
       "      <td>1.0</td>\n",
       "      <td>185.0</td>\n",
       "    </tr>\n",
       "    <tr>\n",
       "      <th>4</th>\n",
       "      <td>2019-01-10</td>\n",
       "      <td>Anthony Davis</td>\n",
       "      <td>NOP</td>\n",
       "      <td>25.0</td>\n",
       "      <td>37.0</td>\n",
       "      <td>0.513514</td>\n",
       "      <td>19.0</td>\n",
       "      <td>18.0</td>\n",
       "      <td>1368.0</td>\n",
       "      <td>1070.0</td>\n",
       "      <td>384.0</td>\n",
       "      <td>747.0</td>\n",
       "      <td>51.4</td>\n",
       "      <td>35.0</td>\n",
       "      <td>109.0</td>\n",
       "      <td>32.1</td>\n",
       "      <td>267.0</td>\n",
       "      <td>332.0</td>\n",
       "      <td>80.4</td>\n",
       "      <td>124.0</td>\n",
       "      <td>366.0</td>\n",
       "      <td>490.0</td>\n",
       "      <td>164.0</td>\n",
       "      <td>75.0</td>\n",
       "      <td>66.0</td>\n",
       "      <td>99.0</td>\n",
       "      <td>92.0</td>\n",
       "      <td>2324.0</td>\n",
       "      <td>29.0</td>\n",
       "      <td>0.0</td>\n",
       "      <td>173.0</td>\n",
       "    </tr>\n",
       "  </tbody>\n",
       "</table>\n",
       "</div>"
      ],
      "text/plain": [
       "         DATE          PLAYER TEAM   AGE    GP       WLP     W     L     MIN  \\\n",
       "0  2019-01-10    James Harden  HOU  29.0  37.0  0.594595  22.0  15.0  1378.0   \n",
       "1  2019-01-10    Kevin Durant  GSW  30.0  41.0  0.658537  27.0  14.0  1469.0   \n",
       "2  2019-01-10  Damian Lillard  POR  28.0  42.0  0.595238  25.0  17.0  1485.0   \n",
       "3  2019-01-10     Joel Embiid  PHI  24.0  40.0  0.650000  26.0  14.0  1348.0   \n",
       "4  2019-01-10   Anthony Davis  NOP  25.0  37.0  0.513514  19.0  18.0  1368.0   \n",
       "\n",
       "      PTS    FGM    FGA   FG%    3PM    3PA   3P%    FTM    FTA   FT%   OREB  \\\n",
       "0  1254.0  364.0  835.0  43.6  179.0  464.0  38.6  347.0  407.0  85.3   27.0   \n",
       "1  1163.0  401.0  794.0  50.5   75.0  206.0  36.4  286.0  314.0  91.1   20.0   \n",
       "2  1089.0  356.0  801.0  44.4  124.0  321.0  38.6  253.0  282.0  89.7   32.0   \n",
       "3  1077.0  356.0  727.0  49.0   46.0  153.0  30.1  319.0  396.0  80.6   93.0   \n",
       "4  1070.0  384.0  747.0  51.4   35.0  109.0  32.1  267.0  332.0  80.4  124.0   \n",
       "\n",
       "    DREB    REB    AST    TOV   STL   BLK     PF      FP   DD2  TD3    +/-  \n",
       "0  195.0  222.0  318.0  211.0  74.0  22.0  128.0  2074.4  15.0  5.0   58.0  \n",
       "1  284.0  304.0  252.0  140.0  32.0  43.0   78.0  1990.8  12.0  2.0  285.0  \n",
       "2  159.0  191.0  258.0  118.0  41.0  19.0   75.0  1767.2   5.0  0.0  132.0  \n",
       "3  445.0  538.0  140.0  140.0  23.0  75.0  133.0  2086.6  36.0  1.0  185.0  \n",
       "4  366.0  490.0  164.0   75.0  66.0  99.0   92.0  2324.0  29.0  0.0  173.0  "
      ]
     },
     "execution_count": 8,
     "metadata": {},
     "output_type": "execute_result"
    }
   ],
   "source": [
    "url = 'https://stats.nba.com/players/traditional/?sort=PTS&dir=-1&Season=2018-19&SeasonType=Regular%20Season&PerMode=Totals'\n",
    "browser = webdriver.Firefox()\n",
    "browser.get(url)\n",
    "\n",
    "full_text = [[],[],[],[],[],[],[],[],[],[]]\n",
    "\n",
    "for i in range(10):\n",
    "\ttable = browser.find_element_by_css_selector('.nba-stat-table__overflow')\n",
    "\ttext = table.text.split('\\n')\n",
    "\tfull_text[i].append(text)\n",
    "\tbrowser.find_element_by_xpath('/html/body/main/div[2]/div/div[2]/div/div/nba-stat-table/div[3]/div/div/a[2]').click()\n",
    "\tsleep(1)\n",
    "browser.quit()\n",
    "\n",
    "header = full_text[0][0][0].split(' ')\n",
    "rank = []\n",
    "player = []\n",
    "stats= []\n",
    "\n",
    "for j in range(9):\n",
    "    for i in range(1, 151, 3):\n",
    "        rank.append(full_text[j][0][i])\n",
    "\n",
    "    for i in range(2,151, 3):\n",
    "        player.append(full_text[j][0][i])\n",
    "\n",
    "    for i in range(3,151, 3):\n",
    "        stats.append(full_text[j][0][i].split(' '))\n",
    "\n",
    "data = pd.DataFrame(stats, columns=header[1:])\n",
    "for item in data.drop('TEAM', axis=1).columns:\n",
    "    data[item] = data[item].astype('float')\n",
    "data['PLAYER'] = player\n",
    "data['WLP'] = data['W'] / data['GP']\n",
    "data['DATE'] = str(datetime.date.today())\n",
    "x = data.columns.tolist()\n",
    "x = x[-1:] + x[-3:-2] + x[0:3] + x[-2:-1] + x[3:28] \n",
    "data = data[x]\n",
    "\n",
    "data.to_csv(\"data/total/\" + str(datetime.date.today()) + \"_total.csv\", index=False)\n",
    "data.head()"
   ]
  },
  {
   "cell_type": "markdown",
   "metadata": {},
   "source": [
    "---\n",
    "### Things I learned doing this web scraping project:\n",
    "- An list can be an empty list with multiple empty lists. Moreover, an empty list can be an empty inside an empty list, inside an empty list!\n",
    "    - __Use case__: Using a `for` loop to append values into multiple empty lists with different variable names.\n",
    "- An element from a list can be indexed as list, opposed to the commonly use of indexing: to grab the string of an element of a list\n",
    "    - __Use case__: Reorder the column names of a `pandas` `DataFrame`."
   ]
  },
  {
   "cell_type": "markdown",
   "metadata": {},
   "source": [
    "__Task at hand:__ Use a `for` loop to append values into empty lists with different variable names."
   ]
  },
  {
   "cell_type": "markdown",
   "metadata": {},
   "source": [
    "Originally, this was how I thought through the problem, which ultimately did not end up working."
   ]
  },
  {
   "cell_type": "code",
   "execution_count": 414,
   "metadata": {},
   "outputs": [
    {
     "ename": "AttributeError",
     "evalue": "'str' object has no attribute 'append'",
     "output_type": "error",
     "traceback": [
      "\u001b[1;31m----------------------------------------------------\u001b[0m",
      "\u001b[1;31mAttributeError\u001b[0m     Traceback (most recent call last)",
      "\u001b[1;32m<ipython-input-414-15d9b53dbf01>\u001b[0m in \u001b[0;36m<module>\u001b[1;34m\u001b[0m\n\u001b[0;32m      6\u001b[0m \u001b[1;33m\u001b[0m\u001b[0m\n\u001b[0;32m      7\u001b[0m \u001b[1;32mfor\u001b[0m \u001b[0mi\u001b[0m \u001b[1;32min\u001b[0m \u001b[0mrange\u001b[0m\u001b[1;33m(\u001b[0m\u001b[1;36m1\u001b[0m\u001b[1;33m,\u001b[0m \u001b[1;36m3\u001b[0m\u001b[1;33m)\u001b[0m\u001b[1;33m:\u001b[0m\u001b[1;33m\u001b[0m\u001b[1;33m\u001b[0m\u001b[0m\n\u001b[1;32m----> 8\u001b[1;33m     \u001b[0mlist\u001b[0m\u001b[1;33m+\u001b[0m\u001b[0mstr\u001b[0m\u001b[1;33m(\u001b[0m\u001b[0mi\u001b[0m\u001b[1;33m)\u001b[0m\u001b[1;33m.\u001b[0m\u001b[0mappend\u001b[0m\u001b[1;33m(\u001b[0m\u001b[0mitem\u001b[0m\u001b[1;33m)\u001b[0m\u001b[1;33m\u001b[0m\u001b[1;33m\u001b[0m\u001b[0m\n\u001b[0m",
      "\u001b[1;31mAttributeError\u001b[0m: 'str' object has no attribute 'append'"
     ]
    }
   ],
   "source": [
    "list1 = []\n",
    "list2 = []\n",
    "list3 = []\n",
    "\n",
    "x = [x for x in range(31)]\n",
    "\n",
    "for i in range(1, 3):\n",
    "    list+str(i).append(item)"
   ]
  },
  {
   "cell_type": "markdown",
   "metadata": {},
   "source": [
    "Obviously, this was not going to work. Well, I'm a little slow in the thinking portion of programming, I guess. Therefore, I made my way over to a `Python` channel on `Discord` and was able to find solution from a user. \n",
    "He suggested I start with an empty list containing multiple empty lists. It was brilliant! Not only do I avoid having to name all the different lists, I can just index the contents of the variable to get exactly what I need.\n",
    "\n",
    "So, let's try this again."
   ]
  },
  {
   "cell_type": "code",
   "execution_count": 424,
   "metadata": {},
   "outputs": [
    {
     "data": {
      "text/plain": [
       "[[], [], []]"
      ]
     },
     "execution_count": 424,
     "metadata": {},
     "output_type": "execute_result"
    }
   ],
   "source": [
    "empty_lists_within_a_list = [[], [], []]\n",
    "empty_lists_within_a_list"
   ]
  },
  {
   "cell_type": "code",
   "execution_count": 425,
   "metadata": {},
   "outputs": [
    {
     "data": {
      "text/plain": [
       "[[0], [0], [0]]"
      ]
     },
     "execution_count": 425,
     "metadata": {},
     "output_type": "execute_result"
    }
   ],
   "source": [
    "x = 0\n",
    "for i in range(3):\n",
    "    empty_lists_within_a_list[i].append(x)\n",
    "empty_lists_within_a_list"
   ]
  },
  {
   "cell_type": "markdown",
   "metadata": {},
   "source": [
    "We can now index the `list` in which ever which we desire."
   ]
  },
  {
   "cell_type": "code",
   "execution_count": 432,
   "metadata": {},
   "outputs": [
    {
     "name": "stdout",
     "output_type": "stream",
     "text": [
      "List 1:\n",
      "[0]\n",
      "\n",
      "List 2:\n",
      "[0]\n",
      "\n",
      "List 3:\n",
      "[0]\n"
     ]
    }
   ],
   "source": [
    "list1 = empty_lists_within_a_list[0]\n",
    "list2 = empty_lists_within_a_list[1]\n",
    "list3 = empty_lists_within_a_list[2]\n",
    "\n",
    "print(\"List 1:\")\n",
    "print(list1, end='\\n\\n') # by default, print() is print(, end='\\n'). Using print(, end='\\n\\n') just creates an extra \"new line\".\n",
    "print(\"List 2:\")\n",
    "print(list2, end='\\n\\n') # by default, print() is print(, end='\\n'). Using print(, end='\\n\\n') just creates an extra \"new line\".\n",
    "print(\"List 3:\")\n",
    "print(list3)"
   ]
  },
  {
   "cell_type": "markdown",
   "metadata": {},
   "source": [
    "---"
   ]
  },
  {
   "cell_type": "markdown",
   "metadata": {},
   "source": [
    "__Reordering Column Position Order__\n"
   ]
  },
  {
   "cell_type": "code",
   "execution_count": 472,
   "metadata": {},
   "outputs": [],
   "source": [
    "x = data.columns.tolist()\n",
    "old_list = pd.DataFrame(columns=x)\n",
    "x = x[-1:] + x[-3:-2] + x[0:3] + x[-2:-1] + x[3:28]\n",
    "list_we_want = pd.DataFrame(columns=x)"
   ]
  },
  {
   "cell_type": "markdown",
   "metadata": {},
   "source": [
    "This is the original column order from the dataset I scraped above. After making the initial `pd.DataFrame`, I added `PLAYER`, `WLP`, and `DATE`."
   ]
  },
  {
   "cell_type": "code",
   "execution_count": 473,
   "metadata": {},
   "outputs": [
    {
     "data": {
      "text/html": [
       "<div>\n",
       "<style scoped>\n",
       "    .dataframe tbody tr th:only-of-type {\n",
       "        vertical-align: middle;\n",
       "    }\n",
       "\n",
       "    .dataframe tbody tr th {\n",
       "        vertical-align: top;\n",
       "    }\n",
       "\n",
       "    .dataframe thead th {\n",
       "        text-align: right;\n",
       "    }\n",
       "</style>\n",
       "<table border=\"1\" class=\"dataframe\">\n",
       "  <thead>\n",
       "    <tr style=\"text-align: right;\">\n",
       "      <th></th>\n",
       "      <th>TEAM</th>\n",
       "      <th>AGE</th>\n",
       "      <th>GP</th>\n",
       "      <th>W</th>\n",
       "      <th>L</th>\n",
       "      <th>MIN</th>\n",
       "      <th>PTS</th>\n",
       "      <th>FGM</th>\n",
       "      <th>FGA</th>\n",
       "      <th>FG%</th>\n",
       "      <th>3PM</th>\n",
       "      <th>3PA</th>\n",
       "      <th>3P%</th>\n",
       "      <th>FTM</th>\n",
       "      <th>FTA</th>\n",
       "      <th>FT%</th>\n",
       "      <th>OREB</th>\n",
       "      <th>DREB</th>\n",
       "      <th>REB</th>\n",
       "      <th>AST</th>\n",
       "      <th>TOV</th>\n",
       "      <th>STL</th>\n",
       "      <th>BLK</th>\n",
       "      <th>PF</th>\n",
       "      <th>FP</th>\n",
       "      <th>DD2</th>\n",
       "      <th>TD3</th>\n",
       "      <th>+/-</th>\n",
       "      <th>PLAYER</th>\n",
       "      <th>WLP</th>\n",
       "      <th>DATE</th>\n",
       "    </tr>\n",
       "  </thead>\n",
       "  <tbody>\n",
       "  </tbody>\n",
       "</table>\n",
       "</div>"
      ],
      "text/plain": [
       "Empty DataFrame\n",
       "Columns: [TEAM, AGE, GP, W, L, MIN, PTS, FGM, FGA, FG%, 3PM, 3PA, 3P%, FTM, FTA, FT%, OREB, DREB, REB, AST, TOV, STL, BLK, PF, FP, DD2, TD3, +/-, PLAYER, WLP, DATE]\n",
       "Index: []"
      ]
     },
     "metadata": {},
     "output_type": "display_data"
    }
   ],
   "source": [
    "display(old_list)"
   ]
  },
  {
   "cell_type": "markdown",
   "metadata": {},
   "source": [
    "I want to reorder the column so that:\n",
    "- `DATE` goes from  last postion to the first position of the new list. (`x[-1]` to `x[0]`)\n",
    "- `PLAYER` goes from the third to last postion to the second postion of the new list. (`x[-3]` to `x[1]`)\n",
    "- `WLP` goes from the second to last postion to the sixth postion of the new list. (`x[-2]` to `x[5]`)\n"
   ]
  },
  {
   "cell_type": "code",
   "execution_count": 474,
   "metadata": {},
   "outputs": [
    {
     "data": {
      "text/html": [
       "<div>\n",
       "<style scoped>\n",
       "    .dataframe tbody tr th:only-of-type {\n",
       "        vertical-align: middle;\n",
       "    }\n",
       "\n",
       "    .dataframe tbody tr th {\n",
       "        vertical-align: top;\n",
       "    }\n",
       "\n",
       "    .dataframe thead th {\n",
       "        text-align: right;\n",
       "    }\n",
       "</style>\n",
       "<table border=\"1\" class=\"dataframe\">\n",
       "  <thead>\n",
       "    <tr style=\"text-align: right;\">\n",
       "      <th></th>\n",
       "      <th>DATE</th>\n",
       "      <th>PLAYER</th>\n",
       "      <th>TEAM</th>\n",
       "      <th>AGE</th>\n",
       "      <th>GP</th>\n",
       "      <th>WLP</th>\n",
       "      <th>W</th>\n",
       "      <th>L</th>\n",
       "      <th>MIN</th>\n",
       "      <th>PTS</th>\n",
       "      <th>FGM</th>\n",
       "      <th>FGA</th>\n",
       "      <th>FG%</th>\n",
       "      <th>3PM</th>\n",
       "      <th>3PA</th>\n",
       "      <th>3P%</th>\n",
       "      <th>FTM</th>\n",
       "      <th>FTA</th>\n",
       "      <th>FT%</th>\n",
       "      <th>OREB</th>\n",
       "      <th>DREB</th>\n",
       "      <th>REB</th>\n",
       "      <th>AST</th>\n",
       "      <th>TOV</th>\n",
       "      <th>STL</th>\n",
       "      <th>BLK</th>\n",
       "      <th>PF</th>\n",
       "      <th>FP</th>\n",
       "      <th>DD2</th>\n",
       "      <th>TD3</th>\n",
       "      <th>+/-</th>\n",
       "    </tr>\n",
       "  </thead>\n",
       "  <tbody>\n",
       "  </tbody>\n",
       "</table>\n",
       "</div>"
      ],
      "text/plain": [
       "Empty DataFrame\n",
       "Columns: [DATE, PLAYER, TEAM, AGE, GP, WLP, W, L, MIN, PTS, FGM, FGA, FG%, 3PM, 3PA, 3P%, FTM, FTA, FT%, OREB, DREB, REB, AST, TOV, STL, BLK, PF, FP, DD2, TD3, +/-]\n",
       "Index: []"
      ]
     },
     "metadata": {},
     "output_type": "display_data"
    }
   ],
   "source": [
    "display(list_we_want)"
   ]
  },
  {
   "cell_type": "markdown",
   "metadata": {},
   "source": [
    "__Solution:__"
   ]
  },
  {
   "cell_type": "markdown",
   "metadata": {},
   "source": [
    "If you didn't already know, a single element in a list can be indexed into list on itself, opposed to the more commonly seen uses of indexing a `list` to get a `string`. This can be done by adding a `:` after the __indexing number__ followed by the next sequential number. Since Python's upperbound of a `range` or `slice` is excluded (for this particular example, we are using a `slice`), the code will output a \"slice\" of just itself.\n",
    "\n",
    "For example: This is the common way to index a list, which outputs a `string`."
   ]
  },
  {
   "cell_type": "code",
   "execution_count": 452,
   "metadata": {},
   "outputs": [
    {
     "data": {
      "text/plain": [
       "'DATE'"
      ]
     },
     "execution_count": 452,
     "metadata": {},
     "output_type": "execute_result"
    }
   ],
   "source": [
    "x[-1]"
   ]
  },
  {
   "cell_type": "code",
   "execution_count": 450,
   "metadata": {},
   "outputs": [
    {
     "data": {
      "text/plain": [
       "str"
      ]
     },
     "execution_count": 450,
     "metadata": {},
     "output_type": "execute_result"
    }
   ],
   "source": [
    "type(x[-1])"
   ]
  },
  {
   "cell_type": "markdown",
   "metadata": {},
   "source": [
    "We are just using what we already learned from the `print('hello world')` part our quest for the Python knowledge. I just never realized that this was possible! This was a \"You learn something new everyday\" moment for me. By adding a `:` after the indexing number followed by the next sequential integer, you can output the `list` of whatever you indexed."
   ]
  },
  {
   "cell_type": "code",
   "execution_count": 451,
   "metadata": {},
   "outputs": [
    {
     "data": {
      "text/plain": [
       "['WLP']"
      ]
     },
     "execution_count": 451,
     "metadata": {},
     "output_type": "execute_result"
    }
   ],
   "source": [
    "x[-2:-1]"
   ]
  },
  {
   "cell_type": "markdown",
   "metadata": {},
   "source": [
    "This was another use of this technique, which was the reason why I couldn't see it before. Indexing the __last position__ of a `list` as a `list`. To get the last position of a list, you place a `:` followed by nothing else. Intuitively for me, the last position should be `x[-1:0]`, but this outputs an empty `list`."
   ]
  },
  {
   "cell_type": "code",
   "execution_count": 453,
   "metadata": {},
   "outputs": [
    {
     "data": {
      "text/plain": [
       "[]"
      ]
     },
     "execution_count": 453,
     "metadata": {},
     "output_type": "execute_result"
    }
   ],
   "source": [
    "x[-1:0]"
   ]
  },
  {
   "cell_type": "markdown",
   "metadata": {},
   "source": [
    "The last element of the `list` `x`."
   ]
  },
  {
   "cell_type": "code",
   "execution_count": 454,
   "metadata": {},
   "outputs": [
    {
     "data": {
      "text/plain": [
       "['DATE']"
      ]
     },
     "execution_count": 454,
     "metadata": {},
     "output_type": "execute_result"
    }
   ],
   "source": [
    "x[-1:]"
   ]
  },
  {
   "cell_type": "markdown",
   "metadata": {},
   "source": [
    "Now this is the crazy part. You can start adding strings together by using the `+` operator to make a custom order. Think of a train who's individual sections have unique colors and slicing them to whichever lengths of sections you desire. Single sections? Three sections at a time? Sure, go ahead! Now, the `+` operator is like you putting those customly segmented train pieces back together to whichever order you desire!\n",
    "\n",
    "The first example will be to take `DATE`, the last position of the list to the beginning of the list. `x[-1:]` is `DATE`. That means that `x[0:-1]` or `[:-1]` is everything else in the list."
   ]
  },
  {
   "cell_type": "code",
   "execution_count": 462,
   "metadata": {},
   "outputs": [
    {
     "data": {
      "text/plain": [
       "['DATE']"
      ]
     },
     "execution_count": 462,
     "metadata": {},
     "output_type": "execute_result"
    }
   ],
   "source": [
    "x[-1:]"
   ]
  },
  {
   "cell_type": "markdown",
   "metadata": {},
   "source": [
    "`x[0:-1]` is the __same__ as `x[:-1]`. I will be using `x[:-1]` in this example. I don't know enough to explain why they are the same, but what I can say is that when I type it on my computer and press `shift + enter`, they produce the same output."
   ]
  },
  {
   "cell_type": "code",
   "execution_count": 464,
   "metadata": {},
   "outputs": [
    {
     "data": {
      "text/plain": [
       "['TEAM',\n",
       " 'AGE',\n",
       " 'GP',\n",
       " 'W',\n",
       " 'L',\n",
       " 'MIN',\n",
       " 'PTS',\n",
       " 'FGM',\n",
       " 'FGA',\n",
       " 'FG%',\n",
       " '3PM',\n",
       " '3PA',\n",
       " '3P%',\n",
       " 'FTM',\n",
       " 'FTA',\n",
       " 'FT%',\n",
       " 'OREB',\n",
       " 'DREB',\n",
       " 'REB',\n",
       " 'AST',\n",
       " 'TOV',\n",
       " 'STL',\n",
       " 'BLK',\n",
       " 'PF',\n",
       " 'FP',\n",
       " 'DD2',\n",
       " 'TD3',\n",
       " '+/-',\n",
       " 'PLAYER',\n",
       " 'WLP']"
      ]
     },
     "execution_count": 464,
     "metadata": {},
     "output_type": "execute_result"
    }
   ],
   "source": [
    "x[0:-1] "
   ]
  },
  {
   "cell_type": "code",
   "execution_count": 465,
   "metadata": {},
   "outputs": [
    {
     "data": {
      "text/plain": [
       "['TEAM',\n",
       " 'AGE',\n",
       " 'GP',\n",
       " 'W',\n",
       " 'L',\n",
       " 'MIN',\n",
       " 'PTS',\n",
       " 'FGM',\n",
       " 'FGA',\n",
       " 'FG%',\n",
       " '3PM',\n",
       " '3PA',\n",
       " '3P%',\n",
       " 'FTM',\n",
       " 'FTA',\n",
       " 'FT%',\n",
       " 'OREB',\n",
       " 'DREB',\n",
       " 'REB',\n",
       " 'AST',\n",
       " 'TOV',\n",
       " 'STL',\n",
       " 'BLK',\n",
       " 'PF',\n",
       " 'FP',\n",
       " 'DD2',\n",
       " 'TD3',\n",
       " '+/-',\n",
       " 'PLAYER',\n",
       " 'WLP']"
      ]
     },
     "execution_count": 465,
     "metadata": {},
     "output_type": "execute_result"
    }
   ],
   "source": [
    "x[:-1] "
   ]
  },
  {
   "cell_type": "markdown",
   "metadata": {},
   "source": [
    "Knowing the contents of our individual \"train segments\", we can now add them together. `x[0:-1] + x[:-1]` in regular people talk: \"The thing in the last position of a list __plus__ everything else in that same the list\" or \"I want to add the longer piece(the `list` that has everything but the thing in the last postion), to the last thing on the list\"."
   ]
  },
  {
   "cell_type": "code",
   "execution_count": 496,
   "metadata": {},
   "outputs": [
    {
     "data": {
      "text/plain": [
       "['DATE',\n",
       " 'TEAM',\n",
       " 'AGE',\n",
       " 'GP',\n",
       " 'W',\n",
       " 'L',\n",
       " 'MIN',\n",
       " 'PTS',\n",
       " 'FGM',\n",
       " 'FGA',\n",
       " 'FG%',\n",
       " '3PM',\n",
       " '3PA',\n",
       " '3P%',\n",
       " 'FTM',\n",
       " 'FTA',\n",
       " 'FT%',\n",
       " 'OREB',\n",
       " 'DREB',\n",
       " 'REB',\n",
       " 'AST',\n",
       " 'TOV',\n",
       " 'STL',\n",
       " 'BLK',\n",
       " 'PF',\n",
       " 'FP',\n",
       " 'DD2',\n",
       " 'TD3',\n",
       " '+/-',\n",
       " 'PLAYER',\n",
       " 'WLP']"
      ]
     },
     "execution_count": 496,
     "metadata": {},
     "output_type": "execute_result"
    }
   ],
   "source": [
    "x = x[-1:] + x[:-1]\n",
    "x"
   ]
  },
  {
   "cell_type": "markdown",
   "metadata": {},
   "source": [
    "`DATE` was moved from last position of the original `list` to the first position. __Important:__ Now, if we reversed the order of the mathematical formula, the output would __NOT__ be the same. That's the beauty of this technique, you have complete control over the order. Running `x[:-1] + x[-1:]` brings the order of list back to its original form."
   ]
  },
  {
   "cell_type": "code",
   "execution_count": 466,
   "metadata": {},
   "outputs": [
    {
     "data": {
      "text/plain": [
       "['TEAM',\n",
       " 'AGE',\n",
       " 'GP',\n",
       " 'W',\n",
       " 'L',\n",
       " 'MIN',\n",
       " 'PTS',\n",
       " 'FGM',\n",
       " 'FGA',\n",
       " 'FG%',\n",
       " '3PM',\n",
       " '3PA',\n",
       " '3P%',\n",
       " 'FTM',\n",
       " 'FTA',\n",
       " 'FT%',\n",
       " 'OREB',\n",
       " 'DREB',\n",
       " 'REB',\n",
       " 'AST',\n",
       " 'TOV',\n",
       " 'STL',\n",
       " 'BLK',\n",
       " 'PF',\n",
       " 'FP',\n",
       " 'DD2',\n",
       " 'TD3',\n",
       " '+/-',\n",
       " 'PLAYER',\n",
       " 'WLP',\n",
       " 'DATE']"
      ]
     },
     "execution_count": 466,
     "metadata": {},
     "output_type": "execute_result"
    }
   ],
   "source": [
    "x[:-1] + x[-1:]"
   ]
  },
  {
   "cell_type": "markdown",
   "metadata": {},
   "source": [
    "This is what we have so far."
   ]
  },
  {
   "cell_type": "code",
   "execution_count": 479,
   "metadata": {},
   "outputs": [
    {
     "data": {
      "text/html": [
       "<div>\n",
       "<style scoped>\n",
       "    .dataframe tbody tr th:only-of-type {\n",
       "        vertical-align: middle;\n",
       "    }\n",
       "\n",
       "    .dataframe tbody tr th {\n",
       "        vertical-align: top;\n",
       "    }\n",
       "\n",
       "    .dataframe thead th {\n",
       "        text-align: right;\n",
       "    }\n",
       "</style>\n",
       "<table border=\"1\" class=\"dataframe\">\n",
       "  <thead>\n",
       "    <tr style=\"text-align: right;\">\n",
       "      <th></th>\n",
       "      <th>DATE</th>\n",
       "      <th>TEAM</th>\n",
       "      <th>AGE</th>\n",
       "      <th>GP</th>\n",
       "      <th>W</th>\n",
       "      <th>L</th>\n",
       "      <th>MIN</th>\n",
       "      <th>PTS</th>\n",
       "      <th>FGM</th>\n",
       "      <th>FGA</th>\n",
       "      <th>FG%</th>\n",
       "      <th>3PM</th>\n",
       "      <th>3PA</th>\n",
       "      <th>3P%</th>\n",
       "      <th>FTM</th>\n",
       "      <th>FTA</th>\n",
       "      <th>FT%</th>\n",
       "      <th>OREB</th>\n",
       "      <th>DREB</th>\n",
       "      <th>REB</th>\n",
       "      <th>AST</th>\n",
       "      <th>TOV</th>\n",
       "      <th>STL</th>\n",
       "      <th>BLK</th>\n",
       "      <th>PF</th>\n",
       "      <th>FP</th>\n",
       "      <th>DD2</th>\n",
       "      <th>TD3</th>\n",
       "      <th>+/-</th>\n",
       "      <th>PLAYER</th>\n",
       "      <th>WLP</th>\n",
       "    </tr>\n",
       "  </thead>\n",
       "  <tbody>\n",
       "  </tbody>\n",
       "</table>\n",
       "</div>"
      ],
      "text/plain": [
       "Empty DataFrame\n",
       "Columns: [DATE, TEAM, AGE, GP, W, L, MIN, PTS, FGM, FGA, FG%, 3PM, 3PA, 3P%, FTM, FTA, FT%, OREB, DREB, REB, AST, TOV, STL, BLK, PF, FP, DD2, TD3, +/-, PLAYER, WLP]\n",
       "Index: []"
      ]
     },
     "metadata": {},
     "output_type": "display_data"
    }
   ],
   "source": [
    "working_list = pd.DataFrame(columns=x)\n",
    "display(working_list)"
   ]
  },
  {
   "cell_type": "markdown",
   "metadata": {},
   "source": [
    "Next, I want to take `PLAYER` and put in on the second position of our __current__ list. The second part is a little confusing. Since we want to put `PLAYER` in between `DATE` and `TEAM`, we need to see `TEAM` as \"`TEAM` up until where `PLAYER` got cut off\", which is `+/-`. Envision this problem as cutting this list into 4 separate pieces: `DATE`, `PLAYER`, `TEAM through +/-`, and `WLP`. `PLAYER` will leave its second to last position on the list which creates a space between `+/-` and `WLP`. Therefore, `WLP` has to be its own segment. Ultimately, we wil be doing: `DATE` + `PLAYER` + `TEAM through +/-` + `WLP`. We are attach `WLP` back with the `+/-` end of `TEAM though +/-`.\n",
    "- `DATE` = x[0:1]\n",
    "- `PLAYER` = x[-2:-1]\n",
    "- `TEAM through +/-` = x[1:28]\n",
    "- `WLP` = x[-1:]  \n",
    "\n",
    "We have to slice and reattach each segment relative to the __current__ working order of the list.\n",
    "`DATE` + `PLAYER` + `TEAM through +/-` + `WLP` = x[0:1] + x[-2:-1] + x[1:28] + x[-1:]\n",
    "\n",
    "__Remember:__ The order of the mathematical formula is important. Try to visualize how the final order will look like."
   ]
  },
  {
   "cell_type": "code",
   "execution_count": 497,
   "metadata": {},
   "outputs": [
    {
     "data": {
      "text/html": [
       "<div>\n",
       "<style scoped>\n",
       "    .dataframe tbody tr th:only-of-type {\n",
       "        vertical-align: middle;\n",
       "    }\n",
       "\n",
       "    .dataframe tbody tr th {\n",
       "        vertical-align: top;\n",
       "    }\n",
       "\n",
       "    .dataframe thead th {\n",
       "        text-align: right;\n",
       "    }\n",
       "</style>\n",
       "<table border=\"1\" class=\"dataframe\">\n",
       "  <thead>\n",
       "    <tr style=\"text-align: right;\">\n",
       "      <th></th>\n",
       "      <th>DATE</th>\n",
       "      <th>PLAYER</th>\n",
       "      <th>TEAM</th>\n",
       "      <th>AGE</th>\n",
       "      <th>GP</th>\n",
       "      <th>W</th>\n",
       "      <th>L</th>\n",
       "      <th>MIN</th>\n",
       "      <th>PTS</th>\n",
       "      <th>FGM</th>\n",
       "      <th>FGA</th>\n",
       "      <th>FG%</th>\n",
       "      <th>3PM</th>\n",
       "      <th>3PA</th>\n",
       "      <th>3P%</th>\n",
       "      <th>FTM</th>\n",
       "      <th>FTA</th>\n",
       "      <th>FT%</th>\n",
       "      <th>OREB</th>\n",
       "      <th>DREB</th>\n",
       "      <th>REB</th>\n",
       "      <th>AST</th>\n",
       "      <th>TOV</th>\n",
       "      <th>STL</th>\n",
       "      <th>BLK</th>\n",
       "      <th>PF</th>\n",
       "      <th>FP</th>\n",
       "      <th>DD2</th>\n",
       "      <th>TD3</th>\n",
       "      <th>+/-</th>\n",
       "      <th>WLP</th>\n",
       "    </tr>\n",
       "  </thead>\n",
       "  <tbody>\n",
       "  </tbody>\n",
       "</table>\n",
       "</div>"
      ],
      "text/plain": [
       "Empty DataFrame\n",
       "Columns: [DATE, PLAYER, TEAM, AGE, GP, W, L, MIN, PTS, FGM, FGA, FG%, 3PM, 3PA, 3P%, FTM, FTA, FT%, OREB, DREB, REB, AST, TOV, STL, BLK, PF, FP, DD2, TD3, +/-, WLP]\n",
       "Index: []"
      ]
     },
     "metadata": {},
     "output_type": "display_data"
    }
   ],
   "source": [
    "x = x[0:1] + x[-2:-1] + x[1:29] + x[-1:]\n",
    "display(pd.DataFrame(columns=x))"
   ]
  },
  {
   "cell_type": "markdown",
   "metadata": {},
   "source": [
    "Finally, we want to move `WLP` in between `GP` and `W`. Using the concepts shown above, we'll need to do: `DATE through GP` + `WLP` + `W through +/-`. We only have 3 segments this time because `WLP` is the last element on the list."
   ]
  },
  {
   "cell_type": "code",
   "execution_count": 498,
   "metadata": {},
   "outputs": [
    {
     "data": {
      "text/html": [
       "<div>\n",
       "<style scoped>\n",
       "    .dataframe tbody tr th:only-of-type {\n",
       "        vertical-align: middle;\n",
       "    }\n",
       "\n",
       "    .dataframe tbody tr th {\n",
       "        vertical-align: top;\n",
       "    }\n",
       "\n",
       "    .dataframe thead th {\n",
       "        text-align: right;\n",
       "    }\n",
       "</style>\n",
       "<table border=\"1\" class=\"dataframe\">\n",
       "  <thead>\n",
       "    <tr style=\"text-align: right;\">\n",
       "      <th></th>\n",
       "      <th>DATE</th>\n",
       "      <th>PLAYER</th>\n",
       "      <th>TEAM</th>\n",
       "      <th>AGE</th>\n",
       "      <th>GP</th>\n",
       "      <th>WLP</th>\n",
       "      <th>W</th>\n",
       "      <th>L</th>\n",
       "      <th>MIN</th>\n",
       "      <th>PTS</th>\n",
       "      <th>FGM</th>\n",
       "      <th>FGA</th>\n",
       "      <th>FG%</th>\n",
       "      <th>3PM</th>\n",
       "      <th>3PA</th>\n",
       "      <th>3P%</th>\n",
       "      <th>FTM</th>\n",
       "      <th>FTA</th>\n",
       "      <th>FT%</th>\n",
       "      <th>OREB</th>\n",
       "      <th>DREB</th>\n",
       "      <th>REB</th>\n",
       "      <th>AST</th>\n",
       "      <th>TOV</th>\n",
       "      <th>STL</th>\n",
       "      <th>BLK</th>\n",
       "      <th>PF</th>\n",
       "      <th>FP</th>\n",
       "      <th>DD2</th>\n",
       "      <th>TD3</th>\n",
       "      <th>+/-</th>\n",
       "    </tr>\n",
       "  </thead>\n",
       "  <tbody>\n",
       "  </tbody>\n",
       "</table>\n",
       "</div>"
      ],
      "text/plain": [
       "Empty DataFrame\n",
       "Columns: [DATE, PLAYER, TEAM, AGE, GP, WLP, W, L, MIN, PTS, FGM, FGA, FG%, 3PM, 3PA, 3P%, FTM, FTA, FT%, OREB, DREB, REB, AST, TOV, STL, BLK, PF, FP, DD2, TD3, +/-]\n",
       "Index: []"
      ]
     },
     "metadata": {},
     "output_type": "display_data"
    }
   ],
   "source": [
    "x = x[0:5] + x[-1:] + x[5:-1]\n",
    "display(pd.DataFrame(columns=x))"
   ]
  },
  {
   "cell_type": "markdown",
   "metadata": {},
   "source": [
    "For those of you in the never-ending quest to find Python \"one-liners\", here's the code in one line. I mean, it's not really one line if you consider that you have to save the columns names from somewhere."
   ]
  },
  {
   "cell_type": "code",
   "execution_count": 500,
   "metadata": {},
   "outputs": [
    {
     "data": {
      "text/html": [
       "<div>\n",
       "<style scoped>\n",
       "    .dataframe tbody tr th:only-of-type {\n",
       "        vertical-align: middle;\n",
       "    }\n",
       "\n",
       "    .dataframe tbody tr th {\n",
       "        vertical-align: top;\n",
       "    }\n",
       "\n",
       "    .dataframe thead th {\n",
       "        text-align: right;\n",
       "    }\n",
       "</style>\n",
       "<table border=\"1\" class=\"dataframe\">\n",
       "  <thead>\n",
       "    <tr style=\"text-align: right;\">\n",
       "      <th></th>\n",
       "      <th>DATE</th>\n",
       "      <th>PLAYER</th>\n",
       "      <th>TEAM</th>\n",
       "      <th>AGE</th>\n",
       "      <th>GP</th>\n",
       "      <th>WLP</th>\n",
       "      <th>W</th>\n",
       "      <th>L</th>\n",
       "      <th>MIN</th>\n",
       "      <th>PTS</th>\n",
       "      <th>FGM</th>\n",
       "      <th>FGA</th>\n",
       "      <th>FG%</th>\n",
       "      <th>3PM</th>\n",
       "      <th>3PA</th>\n",
       "      <th>3P%</th>\n",
       "      <th>FTM</th>\n",
       "      <th>FTA</th>\n",
       "      <th>FT%</th>\n",
       "      <th>OREB</th>\n",
       "      <th>DREB</th>\n",
       "      <th>REB</th>\n",
       "      <th>AST</th>\n",
       "      <th>TOV</th>\n",
       "      <th>STL</th>\n",
       "      <th>BLK</th>\n",
       "      <th>PF</th>\n",
       "      <th>FP</th>\n",
       "      <th>DD2</th>\n",
       "      <th>TD3</th>\n",
       "      <th>+/-</th>\n",
       "    </tr>\n",
       "  </thead>\n",
       "  <tbody>\n",
       "  </tbody>\n",
       "</table>\n",
       "</div>"
      ],
      "text/plain": [
       "Empty DataFrame\n",
       "Columns: [DATE, PLAYER, TEAM, AGE, GP, WLP, W, L, MIN, PTS, FGM, FGA, FG%, 3PM, 3PA, 3P%, FTM, FTA, FT%, OREB, DREB, REB, AST, TOV, STL, BLK, PF, FP, DD2, TD3, +/-]\n",
       "Index: []"
      ]
     },
     "metadata": {},
     "output_type": "display_data"
    }
   ],
   "source": [
    "display(pd.DataFrame(columns=x[-1:] + x[-3:-2] + x[0:3] + x[-2:-1] + x[3:-3]))"
   ]
  },
  {
   "cell_type": "code",
   "execution_count": 160,
   "metadata": {},
   "outputs": [],
   "source": [
    "# figure out how to run this automatically every day at a certain time.\n",
    "# Add Team Rank to this\n",
    "# Add rank for each category and the avg of that can be the indication of their winning percentage"
   ]
  }
 ],
 "metadata": {
  "kernelspec": {
   "display_name": "Python 3",
   "language": "python",
   "name": "python3"
  },
  "language_info": {
   "codemirror_mode": {
    "name": "ipython",
    "version": 3
   },
   "file_extension": ".py",
   "mimetype": "text/x-python",
   "name": "python",
   "nbconvert_exporter": "python",
   "pygments_lexer": "ipython3",
   "version": "3.7.1"
  }
 },
 "nbformat": 4,
 "nbformat_minor": 2
}
